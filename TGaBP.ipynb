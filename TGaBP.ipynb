{
 "cells": [
  {
   "cell_type": "markdown",
   "metadata": {},
   "source": [
    "# 学習型GaBP"
   ]
  },
  {
   "cell_type": "markdown",
   "metadata": {},
   "source": [
    "## 必要なパッケージのインポート"
   ]
  },
  {
   "cell_type": "code",
   "execution_count": 3,
   "metadata": {},
   "outputs": [],
   "source": [
    "import torch\n",
    "import math\n",
    "import time\n",
    "import numpy as np\n",
    "from scipy import linalg\n",
    "import torch.nn as nn\n",
    "import torch.optim as optim\n",
    "import matplotlib.pyplot as plt"
   ]
  },
  {
   "cell_type": "markdown",
   "metadata": {},
   "source": [
    "## グローバル定数の設定"
   ]
  },
  {
   "cell_type": "code",
   "execution_count": 4,
   "metadata": {},
   "outputs": [],
   "source": [
    "M_   = 24   # 送信アンテナ数\n",
    "N_   = 32   # 受信アンテナ数\n",
    "K    = 10   # ミニバッチサイズ\n",
    "rho  = 4    # 相関（0.1 x rho）\n",
    "ml   = 4    # 変調レベル  \n",
    "wloop= 2    # 試行回数 (10**wloop)\n",
    "EsN0 = 4    # Es/N0 [dB]\n",
    "Niter= 32   # GaBPの反復回数\n",
    "adam_lr = 0.005 # Adamの学習率"
   ]
  },
  {
   "cell_type": "markdown",
   "metadata": {},
   "source": [
    "## QAM変調クラス"
   ]
  },
  {
   "cell_type": "code",
   "execution_count": 10,
   "metadata": {},
   "outputs": [],
   "source": [
    "class MOD():\n",
    "    def __init__(self, ml):\n",
    "        self.ml = ml\n",
    "        self.nsym = 2 ** ml\n",
    "        self.rep_b = np.empty((ml, self.nsym), int)\n",
    "        for idx in range(0, self.nsym):\n",
    "            for idx_ in range(0, ml):\n",
    "                self.rep_b[idx_, idx] = (idx >> (self.ml - idx_ - 1)) % 2\n",
    "        self.w = 2 ** np.arange(ml / 2)[::-1]\n",
    "        self.w = np.concatenate([self.w, 1j * self.w], axis=0)\n",
    "        self.val = np.dot(self.w, 2 * self.rep_b - 1)\n",
    "        self.norm = np.sqrt(3 / (2 * (self.nsym - 1)))\n",
    "        self.val *= self.norm\n",
    "        self.Esmax = np.max(np.abs(self.val) ** 2)\n",
    "        self.lv = 2 ** np.arange(ml)[::-1]\n",
    "        self.lay = np.arange(ml -1,dtype=float)\n",
    "        self.lay -= self.lay[-1] / 2\n",
    "        self.lay *= 2*self.norm\n",
    "        self.amap  = np.array([ 3, 2, 0, 1, 7, 6, 4, 5,15, 9,12,13,11,10, 8, 9],dtype=int)\n",
    "        self.amap_ = np.array([ 2, 3, 1, 0, 6, 7, 5, 4,14,15,13,12,10,11, 9, 8],dtype=int)\n",
    "\n",
    "           \n",
    "    def demodulation(self, y):\n",
    "        b_ = np.empty((y.shape[0], self.ml * y.shape[1]), int)\n",
    "        b_tmp = np.empty((y.shape[1], self.ml), int)\n",
    "        for idx_k in range(0, y.shape[0]):\n",
    "            a_ = np.argmin(np.abs(y[idx_k, :] - np.tile(self.val, (y.shape[1], 1)).T) ** 2, axis=0)\n",
    "            for idx_m in range(0, y.shape[1]):\n",
    "                b_tmp[idx_m, :] = self.rep_b[:, self.amap_[a_[idx_m]]]\n",
    "            b_[idx_k, :] = b_tmp.T.reshape(-1)\n",
    "        return b_\n",
    "\n",
    "    def llrcal(self, y, HH, N0):\n",
    "        omega = torch.sum(HH, axis=1)\n",
    "        llr_ = np.zeros((self.ml, y.shape[0]))\n",
    "        met = -np.abs(y - np.tile(self.val, (y.shape[0], 1)).transpose()) ** 2/(N0/(omega[:y.shape[0]]+omega[y.shape[0]:]))\n",
    "        for idx_l in range(0, self.ml):\n",
    "            for idx_m in range(0, y.shape[0]):\n",
    "                llr_[idx_l, idx_m]  = self.lnsumexp(met[self.rep_b[idx_l] == 1, idx_m])\n",
    "                llr_[idx_l, idx_m] -= self.lnsumexp(met[self.rep_b[idx_l] == 0, idx_m])\n",
    "        return llr_\n",
    "\n",
    "    def lnsumexp(self, indata):\n",
    "        leng = len( indata )\n",
    "        tmp = indata[0]\n",
    "        for idx in range(1, leng):\n",
    "            corr_fac = torch.log(1.0 + torch.exp(-abs(tmp - indata[idx])))\n",
    "            if (indata[idx] > tmp):\n",
    "                tmp = indata[idx]\n",
    "            tmp += corr_fac;\n",
    "        return tmp"
   ]
  },
  {
   "cell_type": "markdown",
   "metadata": {},
   "source": [
    "## 通信路クラス"
   ]
  },
  {
   "cell_type": "code",
   "execution_count": 11,
   "metadata": {},
   "outputs": [],
   "source": [
    "class CH():\n",
    "    def __init__(self, M_, N_, K, rho):\n",
    "        self.M_ = M_\n",
    "        self.N_ = N_\n",
    "        self.K = K\n",
    "        self.rho = rho\n",
    "\n",
    "    def fading_gen(self):\n",
    "        self.H = (np.random.randn(self.N_,self.M_) + 1j* np.random.randn(self.N_,self.M_))/np.sqrt(2)\n",
    "        R = np.zeros((self.N_,self.N_))\n",
    "        temp = (self.rho * 0.1) ** np.arange(0, self.N_)\n",
    "        if (self.rho>0):\n",
    "            for idx in range(0, self.N_):\n",
    "                R[idx,:] = np.roll(temp,idx)\n",
    "            L = linalg.cholesky(R)\n",
    "            self.H = np.dot(L.T,self.H)\n",
    "\n",
    "    def awgn_gen(self, N0):\n",
    "        self.z = (np.random.randn(self.N_,self.K) + 1j* np.random.randn(self.N_,self.K))*np.sqrt(N0/2)"
   ]
  },
  {
   "cell_type": "markdown",
   "metadata": {},
   "source": [
    "## ミニバッチ生成関数"
   ]
  },
  {
   "cell_type": "code",
   "execution_count": 12,
   "metadata": {},
   "outputs": [],
   "source": [
    "def gen_minibatch(ch, mod, N0):\n",
    "    # Source bits / alphabet / symbol\n",
    "    b = np.random.randint(0, 2, (ch.M_ * mod.ml, ch.K))\n",
    "    a = np.dot(np.kron(mod.lv, np.eye(ch.M_, dtype=int)), b)\n",
    "    # TX symbol\n",
    "    x = np.array(mod.val[mod.amap[a]])\n",
    "    # Channel\n",
    "    ch.awgn_gen(N0)\n",
    "    y = np.dot(ch.H, x)  + ch.z\n",
    "\n",
    "    xx = torch.from_numpy(np.concatenate([x.real, x.imag])).transpose(0, 1)\n",
    "    yy = torch.from_numpy(np.concatenate([y.real, y.imag])).transpose(0, 1)\n",
    "\n",
    "    H1 = np.concatenate([ch.H.real, -ch.H.imag], axis=1)\n",
    "    H2 = np.concatenate([ch.H.imag, ch.H.real], axis=1)\n",
    "    HH = torch.from_numpy(np.concatenate([H1, H2], axis=0))\n",
    "\n",
    "    return b.T, xx.float(), yy.float(), HH.float()"
   ]
  },
  {
   "cell_type": "markdown",
   "metadata": {},
   "source": [
    "## 学習可能なGaBP クラス"
   ]
  },
  {
   "cell_type": "code",
   "execution_count": 13,
   "metadata": {},
   "outputs": [],
   "source": [
    "class TGaBP(nn.Module):\n",
    "    def __init__(self, M, N, mod, Niter):\n",
    "        super(TGaBP, self).__init__()\n",
    "        v=4\n",
    "        temp = -0.5 * np.ones(N)\n",
    "        for idx in range(0, int(N/v)):\n",
    "            temp[idx*v]=0.5\n",
    "\n",
    "        temp_ = np.zeros((N,Niter))\n",
    "        for idx in range(0, Niter):\n",
    "            temp_[:,idx] = np.roll(temp,idx)\n",
    "        self.eta = nn.Parameter(torch.from_numpy(temp_))\n",
    "        self.mu = nn.Parameter(torch.from_numpy(2*(np.arange(0,Niter,1)+1)/Niter))\n",
    "\n",
    "        self.M = M\n",
    "        self.N = N\n",
    "        self.mod = mod\n",
    "\n",
    "    def sigmoid(self,eta):\n",
    "        return 1/(1 + torch.exp(-4.0*eta))\n",
    "\n",
    "    def SC(self, y, H, SR_mat, ER_mat):  # Soft Canceller\n",
    "        # SC\n",
    "        Reconstruct_matrix = H.T * SR_mat\n",
    "        y_tilde = y - torch.sum(Reconstruct_matrix, axis=0) + Reconstruct_matrix\n",
    "        delta = ER_mat - SR_mat ** 2\n",
    "        return y_tilde, delta\n",
    "\n",
    "    def BG(self, H, HH, N0, y_tilde, delta, uu, vv, eta,x):  # BG\n",
    "        element = HH * delta\n",
    "\n",
    "        psi = (torch.sum(element, axis=0).reshape(1, -1) - element) + N0 / 2.0\n",
    "        #psi = 1.0\n",
    "\n",
    "        u = H.T * y_tilde / psi\n",
    "        uu = self.sigmoid(eta) * u + (1 - self.sigmoid(eta)) * uu\n",
    "\n",
    "        s = (torch.sum(uu, axis=1) - uu.transpose(0, 1)).transpose(0, 1)\n",
    "        v = HH / psi\n",
    "        vv = self.sigmoid(eta) * v + (1 - self.sigmoid(eta)) * vv\n",
    "\n",
    "        omega = (torch.sum(vv, axis=1) - vv.transpose(0, 1)).transpose(0, 1)\n",
    "        gamma = s / omega\n",
    "        gamma_post = torch.sum(u, axis=1) / torch.sum(v, axis=1)\n",
    "        return gamma, gamma_post, uu, vv\n",
    "\n",
    "    def RG(self, gamma, mu):  # RG\n",
    "        SR_mat = torch.zeros((self.M, self.N))\n",
    "        ER_mat = torch.zeros((self.M, self.N))\n",
    "        for gamma_ in self.mod.lay:\n",
    "            temp = mu * (gamma - gamma_) / self.mod.norm\n",
    "            SR_mat += torch.tanh(temp)\n",
    "            ER_mat += gamma_ * torch.tanh(temp)\n",
    "        SR_mat *= self.mod.norm\n",
    "        ER_mat *= 2 * self.mod.norm\n",
    "        ER_mat += self.mod.Esmax / 2\n",
    "        return SR_mat, ER_mat\n",
    "\n",
    "    def SD(self, gamma_post, mu):  # RG\n",
    "        SD_mat = torch.zeros(self.M)\n",
    "        for gamma_ in self.mod.lay:\n",
    "            temp =  mu*(gamma_post - gamma_) / self.mod.norm\n",
    "            SD_mat += torch.tanh(temp)\n",
    "        SD_mat *= self.mod.norm\n",
    "        return SD_mat\n",
    "\n",
    "    def forward(self, x, y, H, N0, mod, Niter=16):\n",
    "        M_ = int(self.M / 2)\n",
    "        K, N = y.shape\n",
    "        HH = (H * H).T\n",
    "\n",
    "        x_ = torch.zeros((K, self.M))\n",
    "        x_hat = torch.zeros((K, self.M))\n",
    "        llr_ = np.zeros((K, M_*mod.ml))\n",
    "\n",
    "        for idx_sym in range(0, K):\n",
    "            SR_mat = torch.zeros((self.M, self.N)).float()\n",
    "            ER_mat = torch.ones((self.M, self.N)).float() / 2.0\n",
    "\n",
    "            # # Perfect priori\n",
    "            # SR_mat = np.tile(x[idx_sym, :], (N, 1)).T\n",
    "            # ER_mat = SR_mat ** 2\n",
    "\n",
    "            uu = torch.zeros((self.M, self.N))\n",
    "            vv = torch.zeros((self.M, self.N))\n",
    "            for idx_iter in range(0, Niter):\n",
    "                # SC\n",
    "                y_tilde, delta = TGaBP.SC(self, y[idx_sym, :], H, SR_mat, ER_mat)\n",
    "                # BG\n",
    "                gamma, gamma_post, uu, vv = TGaBP.BG(self, H, HH, N0, y_tilde, delta, uu, vv, self.eta[:, idx_iter],x[idx_sym,:])\n",
    "                # RG\n",
    "                SR_mat, ER_mat = TGaBP.RG(self, gamma, self.mu[idx_iter])\n",
    "            # Output\n",
    "            x_[idx_sym, :] = TGaBP.SD(self, gamma_post, self.mu[idx_iter])\n",
    "            x_hat[idx_sym, :] = gamma_post\n",
    "            # llr_[idx_sym, :] = mod.llrcal(gamma_post[:M_] + 1j * gamma_post[M_:],HH,N0).flatten()\n",
    "\n",
    "        #b_ = mod.demodulation(x_hat[:,:M_] + 1j * x_hat[:,M_:])\n",
    "        # b_ = llr_ > 0\n",
    "        return x_"
   ]
  },
  {
   "cell_type": "markdown",
   "metadata": {},
   "source": [
    "## 訓練フェーズ"
   ]
  },
  {
   "cell_type": "code",
   "execution_count": 14,
   "metadata": {},
   "outputs": [
    {
     "name": "stdout",
     "output_type": "stream",
     "text": [
      "0 0.002594506833702326\n",
      "10 0.001254540286026895\n",
      "20 0.0011650421656668186\n",
      "30 0.0033910556230694056\n",
      "40 0.0025796042755246162\n",
      "50 0.0011382866650819778\n",
      "60 0.0017784457886591554\n",
      "70 0.0012630096171051264\n",
      "80 0.0007554813055321574\n",
      "90 0.0010070177959278226\n",
      "elapsed_time:61.22273898124695[sec]\n"
     ]
    },
    {
     "data": {
      "text/plain": "<matplotlib.colorbar.Colorbar at 0x240d0ba8610>"
     },
     "execution_count": 14,
     "metadata": {},
     "output_type": "execute_result"
    },
    {
     "data": {
      "text/plain": "<Figure size 432x288 with 3 Axes>",
      "image/png": "[encoded data removed]"
     },
     "metadata": {
      "needs_background": "light"
     },
     "output_type": "display_data"
    }
   ],
   "source": [
    "start = time.time()\n",
    "\n",
    "nloop = int(10**wloop)\n",
    "\n",
    "ch = CH(M_, N_, K,rho)\n",
    "mod = MOD(ml)\n",
    "model = TGaBP(2*M_, 2*N_, mod, Niter)\n",
    "opt   = optim.Adam(model.parameters(), lr=adam_lr)\n",
    "loss_func = nn.MSELoss()\n",
    "\n",
    "N0 = 10.0 ** (-EsN0 / 10.0)\n",
    "for idx_loop in range(0, nloop):\n",
    "    ch.fading_gen()\n",
    "    b, x, y, H = gen_minibatch(ch, mod, N0)\n",
    "    opt.zero_grad()\n",
    "    x_hat = model(x, y, H, N0, mod, Niter)\n",
    "    loss  = loss_func(x_hat, x)\n",
    "    loss.backward()  # 誤差逆伝播法(後ろ向き計算の実行)\n",
    "    opt.step()       # 学習可能パラメータの更新\n",
    "    if((idx_loop%10)==0):\n",
    "        print(idx_loop, loss.item())\n",
    "\n",
    "elapsed_time = time.time() - start\n",
    "print (\"elapsed_time:{0}\".format(elapsed_time) + \"[sec]\")\n",
    "\n",
    "# mu\n",
    "plt.subplot(2,1,1)\n",
    "plt.grid()\n",
    "plt.plot(model.mu[:-1].detach().numpy(), color=\"blue\")\n",
    "plt.xlabel('Iteration')\n",
    "plt.ylabel(r'$\\mu$')\n",
    "\n",
    "# eta\n",
    "plt.subplot(2,1,2)\n",
    "c =plt.pcolor(model.sigmoid(model.eta[:,:-1]).detach().numpy(), cmap='RdBu')\n",
    "plt.xlabel('Iteration')\n",
    "plt.ylabel(r'$N$')\n",
    "plt.colorbar(c)\n",
    "\n"
   ]
  },
  {
   "cell_type": "markdown",
   "metadata": {},
   "source": [
    "## 試験フェーズ"
   ]
  },
  {
   "cell_type": "code",
   "execution_count": 13,
   "metadata": {},
   "outputs": [
    {
     "ename": "NameError",
     "evalue": "name 'mod' is not defined",
     "output_type": "error",
     "traceback": [
      "\u001B[1;31m---------------------------------------------------------------------------\u001B[0m",
      "\u001B[1;31mNameError\u001B[0m                                 Traceback (most recent call last)",
      "\u001B[1;32m<ipython-input-13-10900363b864>\u001B[0m in \u001B[0;36m<module>\u001B[1;34m\u001B[0m\n\u001B[0;32m      5\u001B[0m         \u001B[1;31m# Fading generation\u001B[0m\u001B[1;33m\u001B[0m\u001B[1;33m\u001B[0m\u001B[1;33m\u001B[0m\u001B[0m\n\u001B[0;32m      6\u001B[0m         \u001B[0mch\u001B[0m\u001B[1;33m.\u001B[0m\u001B[0mfading_gen\u001B[0m\u001B[1;33m(\u001B[0m\u001B[1;33m)\u001B[0m\u001B[1;33m\u001B[0m\u001B[1;33m\u001B[0m\u001B[0m\n\u001B[1;32m----> 7\u001B[1;33m         \u001B[0mb\u001B[0m\u001B[1;33m,\u001B[0m \u001B[0mx\u001B[0m\u001B[1;33m,\u001B[0m \u001B[0my\u001B[0m\u001B[1;33m,\u001B[0m \u001B[0mH\u001B[0m \u001B[1;33m=\u001B[0m \u001B[0mgen_minibatch\u001B[0m\u001B[1;33m(\u001B[0m\u001B[0mch\u001B[0m\u001B[1;33m,\u001B[0m \u001B[0mmod\u001B[0m\u001B[1;33m,\u001B[0m \u001B[0mN0\u001B[0m\u001B[1;33m)\u001B[0m\u001B[1;33m\u001B[0m\u001B[1;33m\u001B[0m\u001B[0m\n\u001B[0m\u001B[0;32m      8\u001B[0m         \u001B[0mx_\u001B[0m \u001B[1;33m=\u001B[0m \u001B[0mmodel\u001B[0m\u001B[1;33m(\u001B[0m\u001B[0mx\u001B[0m\u001B[1;33m,\u001B[0m \u001B[0my\u001B[0m\u001B[1;33m,\u001B[0m \u001B[0mH\u001B[0m\u001B[1;33m,\u001B[0m \u001B[0mN0\u001B[0m\u001B[1;33m,\u001B[0m \u001B[0mmod\u001B[0m\u001B[1;33m,\u001B[0m \u001B[0mNiter\u001B[0m\u001B[1;33m)\u001B[0m\u001B[1;33m\u001B[0m\u001B[1;33m\u001B[0m\u001B[0m\n\u001B[0;32m      9\u001B[0m         \u001B[0mb_\u001B[0m \u001B[1;33m=\u001B[0m \u001B[0mmod\u001B[0m\u001B[1;33m.\u001B[0m\u001B[0mdemodulation\u001B[0m\u001B[1;33m(\u001B[0m\u001B[1;33m(\u001B[0m\u001B[0mx_\u001B[0m\u001B[1;33m[\u001B[0m\u001B[1;33m:\u001B[0m\u001B[1;33m,\u001B[0m \u001B[1;33m:\u001B[0m\u001B[0mM_\u001B[0m\u001B[1;33m]\u001B[0m \u001B[1;33m+\u001B[0m \u001B[1;36m1j\u001B[0m \u001B[1;33m*\u001B[0m \u001B[0mx_\u001B[0m\u001B[1;33m[\u001B[0m\u001B[1;33m:\u001B[0m\u001B[1;33m,\u001B[0m \u001B[0mM_\u001B[0m\u001B[1;33m:\u001B[0m\u001B[1;33m]\u001B[0m\u001B[1;33m)\u001B[0m\u001B[1;33m)\u001B[0m\u001B[1;33m\u001B[0m\u001B[1;33m\u001B[0m\u001B[0m\n",
      "\u001B[1;31mNameError\u001B[0m: name 'mod' is not defined"
     ]
    }
   ],
   "source": [
    "noe   = np.zeros(2,dtype = int)\n",
    "\n",
    "with torch.no_grad():\n",
    "    for idx_loop in range (0, nloop):\n",
    "        # Fading generation\n",
    "        ch.fading_gen()\n",
    "        b, x, y, H = gen_minibatch(ch, mod, N0)\n",
    "        x_ = model(x, y, H, N0, mod, Niter)\n",
    "        b_ = mod.demodulation((x_[:, :M_] + 1j * x_[:, M_:]))\n",
    "\n",
    "        tmp = (b_!=b).sum(axis=1)\n",
    "        noe[0] += tmp.sum()\n",
    "        noe[1] += (mod.ml*ch.M_*ch.K)\n",
    "\n",
    "BER = noe[0]/noe[1]\n",
    "\n",
    "print('Es/N0= %d [dB] -> BER= %e' % (EsN0,BER) )"
   ]
  },
  {
   "cell_type": "code",
   "execution_count": 14,
   "metadata": {
    "pycharm": {
     "name": "#%%\n"
    }
   },
   "outputs": [
    {
     "ename": "NameError",
     "evalue": "name 'model' is not defined",
     "output_type": "error",
     "traceback": [
      "\u001B[1;31m---------------------------------------------------------------------------\u001B[0m",
      "\u001B[1;31mNameError\u001B[0m                                 Traceback (most recent call last)",
      "\u001B[1;32m<ipython-input-14-683c94c13159>\u001B[0m in \u001B[0;36m<module>\u001B[1;34m\u001B[0m\n\u001B[1;32m----> 1\u001B[1;33m \u001B[0mc\u001B[0m \u001B[1;33m=\u001B[0m\u001B[0mplt\u001B[0m\u001B[1;33m.\u001B[0m\u001B[0mpcolor\u001B[0m\u001B[1;33m(\u001B[0m\u001B[0mmodel\u001B[0m\u001B[1;33m.\u001B[0m\u001B[0msigmoid\u001B[0m\u001B[1;33m(\u001B[0m\u001B[0mmodel\u001B[0m\u001B[1;33m.\u001B[0m\u001B[0meta\u001B[0m\u001B[1;33m[\u001B[0m\u001B[1;33m:\u001B[0m\u001B[1;33m,\u001B[0m\u001B[1;33m:\u001B[0m\u001B[1;33m-\u001B[0m\u001B[1;36m1\u001B[0m\u001B[1;33m]\u001B[0m\u001B[1;33m)\u001B[0m\u001B[1;33m.\u001B[0m\u001B[0mdetach\u001B[0m\u001B[1;33m(\u001B[0m\u001B[1;33m)\u001B[0m\u001B[1;33m.\u001B[0m\u001B[0mnumpy\u001B[0m\u001B[1;33m(\u001B[0m\u001B[1;33m)\u001B[0m\u001B[1;33m,\u001B[0m \u001B[0mcmap\u001B[0m\u001B[1;33m=\u001B[0m\u001B[1;34m'jet'\u001B[0m\u001B[1;33m)\u001B[0m\u001B[1;33m\u001B[0m\u001B[1;33m\u001B[0m\u001B[0m\n\u001B[0m\u001B[0;32m      2\u001B[0m \u001B[0mplt\u001B[0m\u001B[1;33m.\u001B[0m\u001B[0mxlabel\u001B[0m\u001B[1;33m(\u001B[0m\u001B[1;34m'Iteration'\u001B[0m\u001B[1;33m)\u001B[0m\u001B[1;33m\u001B[0m\u001B[1;33m\u001B[0m\u001B[0m\n\u001B[0;32m      3\u001B[0m \u001B[0mplt\u001B[0m\u001B[1;33m.\u001B[0m\u001B[0mylabel\u001B[0m\u001B[1;33m(\u001B[0m\u001B[1;34mr'$N$'\u001B[0m\u001B[1;33m)\u001B[0m\u001B[1;33m\u001B[0m\u001B[1;33m\u001B[0m\u001B[0m\n\u001B[0;32m      4\u001B[0m \u001B[0mplt\u001B[0m\u001B[1;33m.\u001B[0m\u001B[0mcolorbar\u001B[0m\u001B[1;33m(\u001B[0m\u001B[0mc\u001B[0m\u001B[1;33m)\u001B[0m\u001B[1;33m\u001B[0m\u001B[1;33m\u001B[0m\u001B[0m\n\u001B[0;32m      5\u001B[0m \u001B[1;33m\u001B[0m\u001B[0m\n",
      "\u001B[1;31mNameError\u001B[0m: name 'model' is not defined"
     ]
    }
   ],
   "source": [
    "c =plt.pcolor(model.sigmoid(model.eta[:,:-1]).detach().numpy(), cmap='jet')\n",
    "plt.xlabel('Iteration')\n",
    "plt.ylabel(r'$N$')\n",
    "plt.colorbar(c)"
   ]
  },
  {
   "cell_type": "code",
   "execution_count": null,
   "outputs": [],
   "source": [],
   "metadata": {
    "collapsed": false,
    "pycharm": {
     "name": "#%%\n"
    }
   }
  }
 ],
 "metadata": {
  "kernelspec": {
   "display_name": "Python 3",
   "language": "python",
   "name": "python3"
  },
  "language_info": {
   "codemirror_mode": {
    "name": "ipython",
    "version": 3
   },
   "file_extension": ".py",
   "mimetype": "text/x-python",
   "name": "python",
   "nbconvert_exporter": "python",
   "pygments_lexer": "ipython3",
   "version": "3.8.5"
  }
 },
 "nbformat": 4,
 "nbformat_minor": 2
}